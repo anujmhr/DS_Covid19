{
 "cells": [
  {
   "cell_type": "code",
   "execution_count": 1,
   "metadata": {},
   "outputs": [],
   "source": [
    "import pandas as pd\n",
    "import numpy as np\n",
    "\n",
    "from datetime import datetime\n",
    "%matplotlib inline\n",
    "\n",
    "import matplotlib as mpl\n",
    "import matplotlib.pyplot as plt\n",
    "\n",
    "import seaborn as sns\n",
    "\n",
    "import plotly.graph_objects as go "
   ]
  },
  {
   "cell_type": "code",
   "execution_count": 2,
   "metadata": {},
   "outputs": [
    {
     "data": {
      "text/html": [
       "<div>\n",
       "<style scoped>\n",
       "    .dataframe tbody tr th:only-of-type {\n",
       "        vertical-align: middle;\n",
       "    }\n",
       "\n",
       "    .dataframe tbody tr th {\n",
       "        vertical-align: top;\n",
       "    }\n",
       "\n",
       "    .dataframe thead th {\n",
       "        text-align: right;\n",
       "    }\n",
       "</style>\n",
       "<table border=\"1\" class=\"dataframe\">\n",
       "  <thead>\n",
       "    <tr style=\"text-align: right;\">\n",
       "      <th></th>\n",
       "      <th>date</th>\n",
       "      <th>Italy</th>\n",
       "      <th>US</th>\n",
       "      <th>Spain</th>\n",
       "      <th>Germany</th>\n",
       "      <th>Nepal</th>\n",
       "      <th>India</th>\n",
       "    </tr>\n",
       "  </thead>\n",
       "  <tbody>\n",
       "    <tr>\n",
       "      <th>236</th>\n",
       "      <td>2020-09-14</td>\n",
       "      <td>288761</td>\n",
       "      <td>6553652</td>\n",
       "      <td>593730</td>\n",
       "      <td>263222</td>\n",
       "      <td>55329</td>\n",
       "      <td>4846427</td>\n",
       "    </tr>\n",
       "    <tr>\n",
       "      <th>235</th>\n",
       "      <td>2020-09-13</td>\n",
       "      <td>287753</td>\n",
       "      <td>6519573</td>\n",
       "      <td>566326</td>\n",
       "      <td>261737</td>\n",
       "      <td>54159</td>\n",
       "      <td>4846427</td>\n",
       "    </tr>\n",
       "    <tr>\n",
       "      <th>234</th>\n",
       "      <td>2020-09-12</td>\n",
       "      <td>286297</td>\n",
       "      <td>6485123</td>\n",
       "      <td>566326</td>\n",
       "      <td>260817</td>\n",
       "      <td>53120</td>\n",
       "      <td>4754356</td>\n",
       "    </tr>\n",
       "    <tr>\n",
       "      <th>233</th>\n",
       "      <td>2020-09-11</td>\n",
       "      <td>284796</td>\n",
       "      <td>6443652</td>\n",
       "      <td>566326</td>\n",
       "      <td>259735</td>\n",
       "      <td>51919</td>\n",
       "      <td>4659984</td>\n",
       "    </tr>\n",
       "    <tr>\n",
       "      <th>232</th>\n",
       "      <td>2020-09-10</td>\n",
       "      <td>283180</td>\n",
       "      <td>6396100</td>\n",
       "      <td>554143</td>\n",
       "      <td>258149</td>\n",
       "      <td>50465</td>\n",
       "      <td>4562414</td>\n",
       "    </tr>\n",
       "  </tbody>\n",
       "</table>\n",
       "</div>"
      ],
      "text/plain": [
       "           date   Italy       US   Spain  Germany  Nepal    India\n",
       "236  2020-09-14  288761  6553652  593730   263222  55329  4846427\n",
       "235  2020-09-13  287753  6519573  566326   261737  54159  4846427\n",
       "234  2020-09-12  286297  6485123  566326   260817  53120  4754356\n",
       "233  2020-09-11  284796  6443652  566326   259735  51919  4659984\n",
       "232  2020-09-10  283180  6396100  554143   258149  50465  4562414"
      ]
     },
     "execution_count": 2,
     "metadata": {},
     "output_type": "execute_result"
    }
   ],
   "source": [
    "df_plot=pd.read_csv('../data/processed/COVID_small_flat_table.csv',sep=';')\n",
    "df_plot.sort_values('date',ascending=False).head()"
   ]
  },
  {
   "cell_type": "code",
   "execution_count": 3,
   "metadata": {},
   "outputs": [
    {
     "data": {
      "text/plain": [
       "<Figure size 432x288 with 0 Axes>"
      ]
     },
     "metadata": {},
     "output_type": "display_data"
    },
    {
     "data": {
      "image/png": "[encoded data removed]",
      "text/plain": [
       "<Figure size 432x288 with 1 Axes>"
      ]
     },
     "metadata": {
      "needs_background": "light"
     },
     "output_type": "display_data"
    }
   ],
   "source": [
    "plt.figure();\n",
    "ax=df_plot.iloc[15:,:].set_index('date').plot()\n",
    "# plt.ylim(10, 40000)\n",
    "ax.set_yscale('log')"
   ]
  },
  {
   "cell_type": "code",
   "execution_count": 4,
   "metadata": {},
   "outputs": [],
   "source": [
    "import plotly.graph_objects as go"
   ]
  },
  {
   "cell_type": "code",
   "execution_count": 5,
   "metadata": {},
   "outputs": [
    {
     "data": {
      "text/plain": [
       "'4.6.0'"
      ]
     },
     "execution_count": 5,
     "metadata": {},
     "output_type": "execute_result"
    }
   ],
   "source": [
    "import plotly\n",
    "plotly.__version__\n"
   ]
  },
  {
   "cell_type": "code",
   "execution_count": 6,
   "metadata": {},
   "outputs": [],
   "source": [
    "country_list=['Italy',\n",
    "              'US',\n",
    "              'Spain',\n",
    "              'Germany',\n",
    "              'Nepal',\n",
    "              'India'\n",
    "             ]"
   ]
  },
  {
   "cell_type": "code",
   "execution_count": 7,
   "metadata": {},
   "outputs": [],
   "source": [
    "fig = go.Figure()\n",
    "## defines how to plot the individual trace\n",
    "for each in country_list:\n",
    "    fig.add_trace(go.Scatter(x=df_plot.date,\n",
    "                                y=df_plot[each],\n",
    "                                mode='markers+lines',\n",
    "                                opacity=0.9,\n",
    "                                line_width=2,\n",
    "                                marker_size=4, \n",
    "                                name=each\n",
    "                                 )\n",
    "                     )\n",
    "\n",
    "## defines the overall layout properties\n",
    "fig.update_layout(\n",
    "    width=950,\n",
    "    height=700,\n",
    "    xaxis_title=\"Time\",\n",
    "    yaxis_title=\"Confirmed infected people (source johns hopkins csse, log-scale)\",\n",
    ")\n",
    "fig.update_yaxes(type=\"log\",range=[1.1,7.5])\n",
    "\n",
    "\n",
    "fig.update_layout(xaxis_rangeslider_visible=True)\n",
    "fig.show(renderer='firefox')\n",
    "# fig.show()"
   ]
  },
  {
   "cell_type": "code",
   "execution_count": null,
   "metadata": {},
   "outputs": [],
   "source": []
  },
  {
   "cell_type": "code",
   "execution_count": null,
   "metadata": {},
   "outputs": [],
   "source": []
  }
 ],
 "metadata": {
  "kernelspec": {
   "display_name": "Python 3",
   "language": "python",
   "name": "python3"
  },
  "language_info": {
   "codemirror_mode": {
    "name": "ipython",
    "version": 3
   },
   "file_extension": ".py",
   "mimetype": "text/x-python",
   "name": "python",
   "nbconvert_exporter": "python",
   "pygments_lexer": "ipython3",
   "version": "3.7.6"
  }
 },
 "nbformat": 4,
 "nbformat_minor": 4
}
